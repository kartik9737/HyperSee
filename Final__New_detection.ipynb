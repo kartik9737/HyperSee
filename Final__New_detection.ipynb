{
  "nbformat": 4,
  "nbformat_minor": 0,
  "metadata": {
    "colab": {
      "provenance": [],
      "gpuType": "T4"
    },
    "kernelspec": {
      "name": "python3",
      "display_name": "Python 3"
    },
    "language_info": {
      "name": "python"
    },
    "accelerator": "GPU"
  },
  "cells": [
    {
      "cell_type": "code",
      "execution_count": 89,
      "metadata": {
        "id": "lRkZCFAFqOOp"
      },
      "outputs": [],
      "source": [
        "import scipy.io as sio\n",
        "import numpy as np\n",
        "import torch\n",
        "import torch.nn as nn\n",
        "import torch.optim as optim\n",
        "from sklearn.decomposition import PCA\n",
        "from sklearn.svm import SVC\n",
        "from sklearn.metrics import classification_report, confusion_matrix\n",
        "import matplotlib.pyplot as plt\n",
        "import seaborn as sns\n",
        "from sklearn.preprocessing import MinMaxScaler\n",
        "from sklearn.model_selection import train_test_split\n",
        "from torch.utils.data import DataLoader, TensorDataset\n",
        "from sklearn.manifold import TSNE\n",
        "import os\n",
        "import time\n",
        "from sklearn.utils.class_weight import compute_class_weight\n",
        "import random\n",
        "from sklearn.metrics import classification_report, confusion_matrix, roc_auc_score, average_precision_score"
      ]
    },
    {
      "cell_type": "code",
      "source": [
        "def set_seed(seed):\n",
        "    random.seed(seed)\n",
        "    np.random.seed(seed)\n",
        "    torch.manual_seed(seed)\n",
        "    torch.cuda.manual_seed(seed)\n",
        "    torch.cuda.manual_seed_all(seed)\n",
        "    os.environ['PYTHONHASHSEED'] = str(seed)\n",
        "    # For deterministic behavior (slower but reproducible)\n",
        "    torch.backends.cudnn.deterministic = True\n",
        "    torch.backends.cudnn.benchmark = False"
      ],
      "metadata": {
        "id": "UfjG0mp674DO"
      },
      "execution_count": 90,
      "outputs": []
    },
    {
      "cell_type": "code",
      "source": [
        "# ======= 1. Dataset Loader =======\n",
        "def load_dataset(name):\n",
        "    if name == 'pavia':\n",
        "        data = sio.loadmat('/content/PaviaU.mat')['paviaU'].astype(np.float32)\n",
        "        gt = sio.loadmat('/content/PaviaU_gt.mat')['paviaU_gt']\n",
        "    elif name == 'salinas':\n",
        "        data = sio.loadmat('/content/Salinas_corrected.mat')['salinas_corrected'].astype(np.float32)\n",
        "        gt = sio.loadmat('/content/Salinas_gt.mat')['salinas_gt']\n",
        "    elif name == 'indian':\n",
        "        data = sio.loadmat('/content/Indian_pines_corrected.mat')['indian_pines_corrected'].astype(np.float32)\n",
        "        gt = sio.loadmat('/content/Indian_pines_gt.mat')['indian_pines_gt']\n",
        "    else:\n",
        "        raise ValueError(\"Unsupported dataset name\")\n",
        "    return data, gt"
      ],
      "metadata": {
        "id": "H1rGQmqYqnPs"
      },
      "execution_count": 91,
      "outputs": []
    },
    {
      "cell_type": "code",
      "source": [
        "# ======= 2. Preprocessing =======\n",
        "def preprocess(data, gt, dataset_name):\n",
        "    h, w, bands = data.shape\n",
        "    if dataset_name == 'indian':\n",
        "        noisy_bands = [b for b in (list(range(104, 109)) + list(range(150, 164)) + [220]) if b < bands]\n",
        "        data = np.delete(data, noisy_bands, axis=2)\n",
        "    scaler = MinMaxScaler()\n",
        "    data_reshaped = data.reshape(-1, data.shape[2])\n",
        "    data_scaled = scaler.fit_transform(data_reshaped).astype(np.float32)\n",
        "    pca_components = 30 if dataset_name != 'indian' else 40\n",
        "    pca = PCA(n_components=pca_components)\n",
        "    # pca = PCA(n_components=pca_components, svd_solver='full', random_state=42)\n",
        "    data_pca = pca.fit_transform(data_scaled)\n",
        "    data_pca = data_pca.reshape(h, w, -1)\n",
        "    return data_pca, gt, h, w, pca_components"
      ],
      "metadata": {
        "id": "OA6bL-_5qqEc"
      },
      "execution_count": 101,
      "outputs": []
    },
    {
      "cell_type": "code",
      "source": [
        "# ======= 3. Efficient Patch Extraction (Reduce Redundancy) =======\n",
        "def extract_patches(data, gt, patch_size):\n",
        "    h, w, c = data.shape\n",
        "    margin = patch_size // 2\n",
        "    padded_data = np.pad(data, ((margin, margin), (margin, margin), (0,0)), mode='reflect')\n",
        "    padded_gt = np.pad(gt, ((margin, margin), (margin, margin)), mode='reflect')\n",
        "\n",
        "    # Vectorized patch extraction using stride tricks (fast and no Python loops)\n",
        "    shape = (h, w, patch_size, patch_size, c)\n",
        "    strides = (padded_data.strides[0], padded_data.strides[1], padded_data.strides[0], padded_data.strides[1], padded_data.strides[2])\n",
        "    patches = np.lib.stride_tricks.as_strided(padded_data, shape=shape, strides=strides)\n",
        "    patches = patches.reshape(-1, patch_size, patch_size, c)\n",
        "\n",
        "    gt_flat = padded_gt[margin:margin+h, margin:margin+w].flatten()\n",
        "\n",
        "    # Only keep patches for pixels with ground truth labels != 0 (Reduce redundancy)\n",
        "    idx = np.where(gt_flat != 0)[0]\n",
        "    patches = patches[idx]\n",
        "    labels = gt_flat[idx]\n",
        "    coords = np.array([(i // w, i % w) for i in idx])\n",
        "    return patches, labels, coords, h, w\n"
      ],
      "metadata": {
        "id": "Yhv3Dtjaqsxk"
      },
      "execution_count": 93,
      "outputs": []
    },
    {
      "cell_type": "code",
      "source": [
        "# ======= 4. Optimized Autoencoder Architecture =======\n",
        "class PatchAutoencoder(nn.Module):\n",
        "    def __init__(self, latent_dim, input_dim):\n",
        "        super().__init__()\n",
        "        self.encoder = nn.Sequential(\n",
        "            nn.Flatten(),\n",
        "            nn.Linear(input_dim, 512),  # reduced from 512\n",
        "            nn.ReLU(),\n",
        "            nn.Linear(512, latent_dim)  # latent_dim typically 32\n",
        "        )\n",
        "        self.decoder = nn.Sequential(\n",
        "            nn.Linear(latent_dim, 512),\n",
        "            nn.ReLU(),\n",
        "            nn.Linear(512, input_dim)\n",
        "        )\n",
        "\n",
        "    def forward(self, x):\n",
        "        z = self.encoder(x)\n",
        "        out = self.decoder(z)\n",
        "        return out, z\n",
        ""
      ],
      "metadata": {
        "id": "2IFxCNmyqv04"
      },
      "execution_count": 94,
      "outputs": []
    },
    {
      "cell_type": "code",
      "source": [
        "# ======= 5. Transformer with Batched Scoring =======\n",
        "class SimpleTransformer(nn.Module):\n",
        "    def __init__(self, dim=32, heads=4):  # heads reduced from 8 to 4 for speed\n",
        "        super().__init__()\n",
        "        self.attn = nn.MultiheadAttention(embed_dim=dim, num_heads=heads, batch_first=True)\n",
        "        self.linear = nn.Sequential(\n",
        "            nn.Linear(dim, 64),\n",
        "            nn.ReLU(),\n",
        "            nn.Linear(64, 1)\n",
        "        )\n",
        "\n",
        "    def forward(self, z):\n",
        "        z = z.unsqueeze(1)  # add sequence dimension\n",
        "        attn_out, _ = self.attn(z, z, z)\n",
        "        squeezed = attn_out.squeeze(1)\n",
        "        scores = self.linear(squeezed).squeeze()\n",
        "        return scores"
      ],
      "metadata": {
        "id": "dejpsPu3qydf"
      },
      "execution_count": 95,
      "outputs": []
    },
    {
      "cell_type": "code",
      "source": [
        "# ======= 6. Latent Space Visualization (Optimized t-SNE) =======\n",
        "def visualize_latent_space(z, labels, dataset_name):\n",
        "    tsne = TSNE(n_components=2, random_state=42, init='pca', learning_rate='auto', n_iter=500)\n",
        "    z_2d = tsne.fit_transform(z)\n",
        "    plt.figure(figsize=(8, 6))\n",
        "    scatter = plt.scatter(z_2d[:, 0], z_2d[:, 1], c=labels, cmap='tab20', s=5)\n",
        "    plt.title(f\"Latent Space t-SNE Visualization - {dataset_name.upper()}\")\n",
        "    plt.colorbar(scatter)\n",
        "    plt.tight_layout()\n",
        "    plt.savefig(f\"outputs/{dataset_name}_latent_tsne.png\")\n",
        "    plt.close()"
      ],
      "metadata": {
        "id": "x2rfOFOgq1HA"
      },
      "execution_count": 96,
      "outputs": []
    },
    {
      "cell_type": "code",
      "source": [
        "# ==== Additional EarlyStopping Utility ====\n",
        "class EarlyStopping:\n",
        "    def __init__(self, patience=3, delta=0):\n",
        "        self.patience = patience\n",
        "        self.delta = delta\n",
        "        self.best_loss = None\n",
        "        self.counter = 0\n",
        "        self.early_stop = False\n",
        "\n",
        "    def __call__(self, val_loss):\n",
        "        if self.best_loss is None:\n",
        "            self.best_loss = val_loss\n",
        "        elif val_loss > self.best_loss - self.delta:\n",
        "            self.counter += 1\n",
        "            if self.counter >= self.patience:\n",
        "                self.early_stop = True\n",
        "        else:\n",
        "            self.best_loss = val_loss\n",
        "            self.counter = 0"
      ],
      "metadata": {
        "id": "bWdzSAYr3Jta"
      },
      "execution_count": 97,
      "outputs": []
    },
    {
      "cell_type": "code",
      "source": [
        "set_seed(42)"
      ],
      "metadata": {
        "id": "BIgHSllr778v"
      },
      "execution_count": 98,
      "outputs": []
    },
    {
      "cell_type": "code",
      "source": [],
      "metadata": {
        "colab": {
          "base_uri": "https://localhost:8080/"
        },
        "id": "BpGsm-8NKNmu",
        "outputId": "b8e81858-42e9-4830-c74d-65f6801d10ae"
      },
      "execution_count": 87,
      "outputs": [
        {
          "output_type": "execute_result",
          "data": {
            "text/plain": [
              "<torch._C.Generator at 0x7fb6c0511710>"
            ]
          },
          "metadata": {},
          "execution_count": 87
        }
      ]
    },
    {
      "cell_type": "code",
      "source": [
        "# ======= 7. Main Pipeline (with all optimizations) =======\n",
        "def run_pipeline(dataset_name, patch_size=16, latent_dim=32, num_epochs=10, save_rgb=True):\n",
        "    os.makedirs(\"outputs\", exist_ok=True)\n",
        "    torch.cuda.empty_cache()\n",
        "    device = torch.device('cuda' if torch.cuda.is_available() else 'cpu')\n",
        "\n",
        "    print(\"Loading dataset and preprocessing...\")\n",
        "    data, gt = load_dataset(dataset_name)\n",
        "    data_pca, gt, h, w, pca_dim = preprocess(data, gt, dataset_name)\n",
        "\n",
        "    # if save_rgb:\n",
        "    rgb_image = data_pca[:, :, :3]\n",
        "    rgb_image = (rgb_image - rgb_image.min()) / (rgb_image.max() - rgb_image.min())\n",
        "    plt.imsave(f\"outputs/{dataset_name}_pca_rgb.png\", rgb_image)\n",
        "    plt.figure(figsize=(6, 6))\n",
        "    plt.title(f\"{dataset_name} PCA RGB Visualization\")\n",
        "    plt.imshow(rgb_image)\n",
        "    plt.axis('off')\n",
        "    plt.show()\n",
        "\n",
        "    input_dim = patch_size * patch_size * pca_dim\n",
        "    patches, labels, coords, h, w = extract_patches(data_pca, gt, patch_size=patch_size)\n",
        "\n",
        "    print(f\"Extracted {len(patches)} patches with known labels (no redundancy).\")\n",
        "\n",
        "    # Convert patches to tensor, flatten patches to vectors\n",
        "    patches_tensor = torch.tensor(patches, dtype=torch.float32).reshape(-1, input_dim)\n",
        "    dataset = TensorDataset(patches_tensor)\n",
        "    batch_size = 512\n",
        "\n",
        "    train_loader = DataLoader(dataset, batch_size=batch_size, shuffle=False, pin_memory=True)\n",
        "\n",
        "    model = PatchAutoencoder(latent_dim=latent_dim, input_dim=input_dim).to(device)\n",
        "    criterion = nn.MSELoss()\n",
        "    optimizer = optim.Adam(model.parameters(), lr=0.001)\n",
        "    scaler = torch.cuda.amp.GradScaler()\n",
        "    early_stopping = EarlyStopping(patience=3)\n",
        "\n",
        "    print(\"Training Autoencoder with mixed precision and batching...\")\n",
        "    model.train()\n",
        "    # scaler = torch.cuda.amp.GradScaler()\n",
        "    epoch_losses = []\n",
        "\n",
        "    for epoch in range(1, num_epochs + 1):\n",
        "        total_loss = 0\n",
        "        for (batch,) in train_loader:\n",
        "            batch = batch.to(device, non_blocking=True)\n",
        "            optimizer.zero_grad()\n",
        "            with torch.cuda.amp.autocast():\n",
        "                output, _ = model(batch)\n",
        "                loss = criterion(output, batch)\n",
        "            scaler.scale(loss).backward()\n",
        "            scaler.step(optimizer)\n",
        "            scaler.update()\n",
        "            total_loss += loss.item()\n",
        "        avg_loss = total_loss / len(train_loader)\n",
        "        epoch_losses.append(avg_loss)\n",
        "        print(f\"Epoch {epoch}/{num_epochs} - Loss: {avg_loss:.6f}\")\n",
        "\n",
        "    # Save loss curve plot\n",
        "    plt.figure()\n",
        "    plt.plot(range(1, num_epochs+1), epoch_losses, marker='o')\n",
        "    plt.title(\"Autoencoder Training Loss\")\n",
        "    plt.xlabel(\"Epoch\")\n",
        "    plt.ylabel(\"Loss\")\n",
        "    plt.grid()\n",
        "    plt.savefig(f\"outputs/{dataset_name}_ae_loss_curve.png\")\n",
        "    plt.close()\n",
        "\n",
        "    print(\"Extracting latent features...\")\n",
        "    model.eval()\n",
        "    with torch.no_grad():\n",
        "        _, latent_z = model(patches_tensor.to(device))\n",
        "    latent_z = latent_z.cpu()\n",
        "\n",
        "    print(\"Visualizing latent space with optimized t-SNE...\")\n",
        "    visualize_latent_space(latent_z.numpy(), labels, dataset_name)\n",
        "\n",
        "    print(\"Running Transformer with batched scoring...\")\n",
        "    transformer = SimpleTransformer(dim=latent_dim).to(device)\n",
        "    transformer.eval()\n",
        "    trans_scores = []\n",
        "    for i in range(0, latent_z.shape[0], batch_size):\n",
        "        batch = latent_z[i:i+batch_size].to(device)\n",
        "        with torch.no_grad():\n",
        "            scores = transformer(batch).cpu().numpy()\n",
        "        trans_scores.append(scores)\n",
        "    trans_scores = np.concatenate(trans_scores)\n",
        "\n",
        "    print(\"Creating anomaly map...\")\n",
        "    anomaly_map = np.zeros((h, w), dtype=np.float32)\n",
        "    for idx, (x, y) in enumerate(coords):\n",
        "        anomaly_map[x, y] = trans_scores[idx]\n",
        "    anomaly_map_norm = (anomaly_map - anomaly_map.min()) / (anomaly_map.max() - anomaly_map.min() + 1e-8)\n",
        "\n",
        "    # Overlay visualization skipped for RGB image if save_rgb is False\n",
        "    if save_rgb:\n",
        "        rgb_image = data_pca[:, :, :3]\n",
        "        rgb_image = (rgb_image - rgb_image.min()) / (rgb_image.max() - rgb_image.min())\n",
        "    else:\n",
        "        rgb_image = np.zeros((h, w, 3))  # dummy black image for overlay\n",
        "\n",
        "    fig, axs = plt.subplots(1, 4, figsize=(20, 6))\n",
        "    axs[0].imshow(gt, cmap='tab20')\n",
        "    axs[0].set_title(\"Ground Truth\")\n",
        "    axs[0].axis('off')\n",
        "\n",
        "    if save_rgb:\n",
        "        axs[1].imshow(rgb_image)\n",
        "        axs[1].set_title(\"RGB PCA Image\")\n",
        "    else:\n",
        "        axs[1].text(0.5, 0.5, \"RGB Image Save Disabled\", ha='center', va='center', fontsize=12)\n",
        "    axs[1].axis('off')\n",
        "\n",
        "    im = axs[2].imshow(anomaly_map_norm, cmap='inferno')\n",
        "    axs[2].set_title(\"Anomaly Heatmap\")\n",
        "    axs[2].axis('off')\n",
        "    fig.colorbar(im, ax=axs[2], fraction=0.046, pad=0.04)\n",
        "\n",
        "    axs[3].imshow(rgb_image)\n",
        "    axs[3].imshow(anomaly_map_norm, cmap='inferno', alpha=0.4)\n",
        "    axs[3].set_title(\"Overlay RGB + Anomalies\")\n",
        "    axs[3].axis('off')\n",
        "\n",
        "    plt.tight_layout()\n",
        "    plt.savefig(f\"outputs/{dataset_name}_anomaly_map_overlay.png\")\n",
        "    plt.close()\n",
        "\n",
        "    print(\"Training SVM on PCA-reduced latent features...\")\n",
        "    # pca_svm = PCA(n_components=min(latent_dim, 20))  # reduce dim before SVM\n",
        "    # latent_reduced = pca_svm.fit_transform(latent_z.numpy())\n",
        "\n",
        "    # X_train, X_test, y_train, y_test = train_test_split(latent_reduced, labels, test_size=0.25, random_state=42, stratify=labels)\n",
        "    # svm_clf = SVC(kernel='rbf', C=5, gamma='scale')\n",
        "    # svm_clf.fit(X_train, y_train)\n",
        "    # y_pred = svm_clf.predict(X_test)\n",
        "    pca_svm = PCA(n_components=min(latent_dim, 20))\n",
        "    latent_reduced = pca_svm.fit_transform(latent_z.numpy())\n",
        "\n",
        "    X_train, X_test, y_train, y_test = train_test_split(latent_reduced, labels, test_size=0.25, random_state=42, stratify=labels)\n",
        "    class_weights = compute_class_weight('balanced', classes=np.unique(y_train), y=y_train)\n",
        "    class_weight_dict = {i: w for i, w in zip(np.unique(y_train), class_weights)}\n",
        "\n",
        "    svm_clf = SVC(kernel='rbf', C=5, gamma='scale', class_weight=class_weight_dict, probability=True)\n",
        "    svm_clf.fit(X_train, y_train)\n",
        "    y_pred = svm_clf.predict(X_test)\n",
        "    y_proba = svm_clf.predict_proba(X_test)\n",
        "\n",
        "    print(\"Classification Report:\")\n",
        "    print(classification_report(y_test, y_pred))\n",
        "    try:\n",
        "        auc = roc_auc_score(y_test, y_proba, multi_class='ovr')\n",
        "        ap = average_precision_score(y_test, y_proba, average='macro')\n",
        "        print(f\"AUC (macro-avg): {auc:.4f}\")\n",
        "        print(f\"Average Precision (macro-avg): {ap:.4f}\")\n",
        "    except Exception as e:\n",
        "        print(\"AUC/AP metrics failed:\", e)\n",
        "\n",
        "\n",
        "    cm = confusion_matrix(y_test, y_pred)\n",
        "    plt.figure(figsize=(10, 8))\n",
        "    sns.heatmap(cm, annot=True, fmt='d', cmap='Blues')\n",
        "    plt.title(f\"Confusion Matrix - {dataset_name.upper()}\")\n",
        "    plt.xlabel(\"Predicted Label\")\n",
        "    plt.ylabel(\"True Label\")\n",
        "    plt.savefig(f\"outputs/{dataset_name}_confusion_matrix.png\")\n",
        "    plt.close()\n",
        "\n",
        "    print(\"Pipeline complete! Results saved in 'outputs/' directory.\")\n"
      ],
      "metadata": {
        "id": "9Ibc4tyiq-MP"
      },
      "execution_count": 102,
      "outputs": []
    },
    {
      "cell_type": "code",
      "source": [
        "if __name__ == \"__main__\":\n",
        "    start_time = time.time()\n",
        "    run_pipeline('indian', patch_size=16, latent_dim=32, num_epochs=10, save_rgb=True)\n",
        "    print(f\"Total runtime: {time.time() - start_time:.2f} seconds\")"
      ],
      "metadata": {
        "colab": {
          "base_uri": "https://localhost:8080/",
          "height": 1000
        },
        "id": "mDYpFjD_u_Bn",
        "outputId": "77d8cb61-26ce-49e6-ae14-971287519f85"
      },
      "execution_count": 104,
      "outputs": [
        {
          "output_type": "stream",
          "name": "stdout",
          "text": [
            "Loading dataset and preprocessing...\n"
          ]
        },
        {
          "output_type": "display_data",
          "data": {
            "text/plain": [
              "<Figure size 600x600 with 1 Axes>"
            ],
            "image/png": "[encoded data removed]"
          },
          "metadata": {}
        },
        {
          "output_type": "stream",
          "name": "stdout",
          "text": [
            "Extracted 10249 patches with known labels (no redundancy).\n"
          ]
        },
        {
          "output_type": "stream",
          "name": "stderr",
          "text": [
            "<ipython-input-102-6023e87022f0>:36: FutureWarning: `torch.cuda.amp.GradScaler(args...)` is deprecated. Please use `torch.amp.GradScaler('cuda', args...)` instead.\n",
            "  scaler = torch.cuda.amp.GradScaler()\n",
            "<ipython-input-102-6023e87022f0>:49: FutureWarning: `torch.cuda.amp.autocast(args...)` is deprecated. Please use `torch.amp.autocast('cuda', args...)` instead.\n",
            "  with torch.cuda.amp.autocast():\n"
          ]
        },
        {
          "output_type": "stream",
          "name": "stdout",
          "text": [
            "Training Autoencoder with mixed precision and batching...\n",
            "Epoch 1/10 - Loss: 0.091961\n",
            "Epoch 2/10 - Loss: 0.064671\n",
            "Epoch 3/10 - Loss: 0.059694\n",
            "Epoch 4/10 - Loss: 0.049890\n",
            "Epoch 5/10 - Loss: 0.049274\n",
            "Epoch 6/10 - Loss: 0.044841\n",
            "Epoch 7/10 - Loss: 0.045690\n",
            "Epoch 8/10 - Loss: 0.044958\n",
            "Epoch 9/10 - Loss: 0.046190\n",
            "Epoch 10/10 - Loss: 0.038916\n",
            "Extracting latent features...\n",
            "Visualizing latent space with optimized t-SNE...\n"
          ]
        },
        {
          "output_type": "stream",
          "name": "stderr",
          "text": [
            "/usr/local/lib/python3.11/dist-packages/sklearn/manifold/_t_sne.py:1164: FutureWarning: 'n_iter' was renamed to 'max_iter' in version 1.5 and will be removed in 1.7.\n",
            "  warnings.warn(\n"
          ]
        },
        {
          "output_type": "stream",
          "name": "stdout",
          "text": [
            "Running Transformer with batched scoring...\n",
            "Creating anomaly map...\n",
            "Training SVM on PCA-reduced latent features...\n",
            "Classification Report:\n",
            "              precision    recall  f1-score   support\n",
            "\n",
            "           1       0.92      1.00      0.96        11\n",
            "           2       0.98      0.97      0.98       357\n",
            "           3       0.99      0.99      0.99       208\n",
            "           4       1.00      1.00      1.00        59\n",
            "           5       0.99      0.99      0.99       121\n",
            "           6       0.98      1.00      0.99       183\n",
            "           7       1.00      1.00      1.00         7\n",
            "           8       1.00      1.00      1.00       120\n",
            "           9       1.00      1.00      1.00         5\n",
            "          10       0.93      0.98      0.96       243\n",
            "          11       1.00      0.97      0.98       614\n",
            "          12       0.98      1.00      0.99       148\n",
            "          13       1.00      1.00      1.00        51\n",
            "          14       1.00      1.00      1.00       316\n",
            "          15       1.00      1.00      1.00        97\n",
            "          16       1.00      1.00      1.00        23\n",
            "\n",
            "    accuracy                           0.99      2563\n",
            "   macro avg       0.99      0.99      0.99      2563\n",
            "weighted avg       0.99      0.99      0.99      2563\n",
            "\n",
            "AUC (macro-avg): 0.9999\n",
            "Average Precision (macro-avg): 0.9994\n",
            "Pipeline complete! Results saved in 'outputs/' directory.\n",
            "Total runtime: 51.62 seconds\n"
          ]
        }
      ]
    }
  ]
}